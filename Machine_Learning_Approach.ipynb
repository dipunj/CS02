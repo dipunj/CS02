{
  "nbformat": 4,
  "nbformat_minor": 0,
  "metadata": {
    "colab": {
      "name": "Machine Learning Approach",
      "version": "0.3.2",
      "views": {},
      "default_view": {},
      "provenance": []
    },
    "kernelspec": {
      "name": "python3",
      "display_name": "Python 3"
    }
  },
  "cells": [
    {
      "metadata": {
        "id": "WrFmB9fkxOJ3",
        "colab_type": "code",
        "colab": {
          "autoexec": {
            "startup": false,
            "wait_interval": 0
          }
        }
      },
      "cell_type": "code",
      "source": [
        "## Connecting to the Drive"
      ],
      "execution_count": 0,
      "outputs": []
    },
    {
      "metadata": {
        "id": "2CR9oG9gxYkx",
        "colab_type": "code",
        "colab": {
          "autoexec": {
            "startup": false,
            "wait_interval": 0
          },
          "base_uri": "https://localhost:8080/",
          "height": 108
        },
        "outputId": "848c384b-ed3c-4a74-cd13-ccec090067a4",
        "executionInfo": {
          "status": "ok",
          "timestamp": 1525130618366,
          "user_tz": -330,
          "elapsed": 32963,
          "user": {
            "displayName": "Akshay Sharma",
            "photoUrl": "https://lh3.googleusercontent.com/a/default-user=s128",
            "userId": "106701687290024516562"
          }
        }
      },
      "cell_type": "code",
      "source": [
        "\n",
        "!apt-get install -y -qq software-properties-common python-software-properties module-init-tools\n",
        "!add-apt-repository -y ppa:alessandro-strada/ppa 2>&1 > /dev/null\n",
        "!apt-get update -qq 2>&1 > /dev/null\n",
        "!apt-get -y install -qq google-drive-ocamlfuse fuse\n",
        "from google.colab import auth\n",
        "auth.authenticate_user()\n",
        "from oauth2client.client import GoogleCredentials\n",
        "creds = GoogleCredentials.get_application_default()\n",
        "import getpass\n",
        "!google-drive-ocamlfuse -headless -id={creds.client_id} -secret={creds.client_secret} < /dev/null 2>&1 | grep URL\n",
        "vcode = getpass.getpass()\n",
        "!echo {vcode} | google-drive-ocamlfuse -headless -id={creds.client_id} -secret={creds.client_secret}"
      ],
      "execution_count": 2,
      "outputs": [
        {
          "output_type": "stream",
          "text": [
            "Please, open the following URL in a web browser: https://accounts.google.com/o/oauth2/auth?client_id=32555940559.apps.googleusercontent.com&redirect_uri=urn%3Aietf%3Awg%3Aoauth%3A2.0%3Aoob&scope=https%3A%2F%2Fwww.googleapis.com%2Fauth%2Fdrive&response_type=code&access_type=offline&approval_prompt=force\r\n",
            "··········\n",
            "Please, open the following URL in a web browser: https://accounts.google.com/o/oauth2/auth?client_id=32555940559.apps.googleusercontent.com&redirect_uri=urn%3Aietf%3Awg%3Aoauth%3A2.0%3Aoob&scope=https%3A%2F%2Fwww.googleapis.com%2Fauth%2Fdrive&response_type=code&access_type=offline&approval_prompt=force\n",
            "Please enter the verification code: Access token retrieved correctly.\n"
          ],
          "name": "stdout"
        }
      ]
    },
    {
      "metadata": {
        "id": "jpVgs1Hixlc0",
        "colab_type": "code",
        "colab": {
          "autoexec": {
            "startup": false,
            "wait_interval": 0
          }
        }
      },
      "cell_type": "code",
      "source": [
        "!mkdir -p drive\n",
        "!google-drive-ocamlfuse drive"
      ],
      "execution_count": 0,
      "outputs": []
    },
    {
      "metadata": {
        "id": "PjnTU0Qbxmq0",
        "colab_type": "code",
        "colab": {
          "autoexec": {
            "startup": false,
            "wait_interval": 0
          }
        }
      },
      "cell_type": "code",
      "source": [
        "## Importing Libraries"
      ],
      "execution_count": 0,
      "outputs": []
    },
    {
      "metadata": {
        "id": "zRBlakzgx2eJ",
        "colab_type": "code",
        "colab": {
          "autoexec": {
            "startup": false,
            "wait_interval": 0
          },
          "base_uri": "https://localhost:8080/",
          "height": 34
        },
        "outputId": "0da580c3-4beb-447b-bd21-f758bac9bc4c",
        "executionInfo": {
          "status": "ok",
          "timestamp": 1525130636566,
          "user_tz": -330,
          "elapsed": 3451,
          "user": {
            "displayName": "Akshay Sharma",
            "photoUrl": "https://lh3.googleusercontent.com/a/default-user=s128",
            "userId": "106701687290024516562"
          }
        }
      },
      "cell_type": "code",
      "source": [
        "import tensorflow as tf\n",
        "import pandas as pd\n",
        "import numpy as np\n",
        "import os\n",
        "from glob import glob\n",
        "import random\n",
        "import matplotlib.pylab as plt\n",
        "import cv2\n",
        "from scipy.misc import imresize\n",
        "from scipy.misc import imread\n",
        "from keras.preprocessing import image\n"
      ],
      "execution_count": 5,
      "outputs": [
        {
          "output_type": "stream",
          "text": [
            "Using TensorFlow backend.\n"
          ],
          "name": "stderr"
        }
      ]
    },
    {
      "metadata": {
        "id": "sPn7vKfdyHcD",
        "colab_type": "code",
        "colab": {
          "autoexec": {
            "startup": false,
            "wait_interval": 0
          }
        }
      },
      "cell_type": "code",
      "source": [
        "## Getting images from drive"
      ],
      "execution_count": 0,
      "outputs": []
    },
    {
      "metadata": {
        "id": "eRIX7zOOx8kF",
        "colab_type": "code",
        "colab": {
          "autoexec": {
            "startup": false,
            "wait_interval": 0
          },
          "base_uri": "https://localhost:8080/",
          "height": 34
        },
        "outputId": "67e7f744-6986-4221-9161-acd95f628dd8",
        "executionInfo": {
          "status": "ok",
          "timestamp": 1525132545294,
          "user_tz": -330,
          "elapsed": 29855,
          "user": {
            "displayName": "Akshay Sharma",
            "photoUrl": "https://lh3.googleusercontent.com/a/default-user=s128",
            "userId": "106701687290024516562"
          }
        }
      },
      "cell_type": "code",
      "source": [
        "images001 = glob(os.path.join(\"drive/app/images_001/images/\", \"*.png\"))\n",
        "print(len(images001))"
      ],
      "execution_count": 45,
      "outputs": [
        {
          "output_type": "stream",
          "text": [
            "3484\n"
          ],
          "name": "stdout"
        }
      ]
    },
    {
      "metadata": {
        "id": "wS1WSYqkyQrS",
        "colab_type": "code",
        "colab": {
          "autoexec": {
            "startup": false,
            "wait_interval": 0
          }
        }
      },
      "cell_type": "code",
      "source": [
        "## Viewing image"
      ],
      "execution_count": 0,
      "outputs": []
    },
    {
      "metadata": {
        "id": "uJYCZbHfyZRi",
        "colab_type": "code",
        "colab": {
          "autoexec": {
            "startup": false,
            "wait_interval": 0
          },
          "base_uri": "https://localhost:8080/",
          "height": 269
        },
        "outputId": "c6cd579b-6ea6-47f3-c43e-a242bfad1f99",
        "executionInfo": {
          "status": "ok",
          "timestamp": 1525132565295,
          "user_tz": -330,
          "elapsed": 3338,
          "user": {
            "displayName": "Akshay Sharma",
            "photoUrl": "https://lh3.googleusercontent.com/a/default-user=s128",
            "userId": "106701687290024516562"
          }
        }
      },
      "cell_type": "code",
      "source": [
        "%matplotlib inline\n",
        "image_name = \"drive/app/images_001/images/00000586_000.png\" #Image to be used as query\n",
        "def plotImage(image_location):\n",
        "    image = cv2.imread(image_name)\n",
        "    image = cv2.resize(image, (512,512))\n",
        "    plt.imshow(cv2.cvtColor(image, cv2.COLOR_BGR2RGB)); plt.axis('off')\n",
        "    return\n",
        "plotImage(image_name)"
      ],
      "execution_count": 47,
      "outputs": [
        {
          "output_type": "display_data",
          "data": {
            "image/png": "[encoded data removed]",
            "text/plain": [
              "<matplotlib.figure.Figure at 0x7f229dcc6978>"
            ]
          },
          "metadata": {
            "tags": []
          }
        }
      ]
    },
    {
      "metadata": {
        "id": "ocwhvmpkyiJI",
        "colab_type": "code",
        "colab": {
          "autoexec": {
            "startup": false,
            "wait_interval": 0
          }
        }
      },
      "cell_type": "code",
      "source": [
        "## Reading labels corresponding to images"
      ],
      "execution_count": 0,
      "outputs": []
    },
    {
      "metadata": {
        "id": "PFLcvnbjymXH",
        "colab_type": "code",
        "colab": {
          "autoexec": {
            "startup": false,
            "wait_interval": 0
          },
          "base_uri": "https://localhost:8080/",
          "height": 234
        },
        "outputId": "9d87f0ac-c95f-49ed-c959-77d68be94c20",
        "executionInfo": {
          "status": "ok",
          "timestamp": 1525132612377,
          "user_tz": -330,
          "elapsed": 6883,
          "user": {
            "displayName": "Akshay Sharma",
            "photoUrl": "https://lh3.googleusercontent.com/a/default-user=s128",
            "userId": "106701687290024516562"
          }
        }
      },
      "cell_type": "code",
      "source": [
        "labels = pd.read_csv('drive/app/Data_Entry_2017.csv')\n",
        "labels.tail(5)"
      ],
      "execution_count": 49,
      "outputs": [
        {
          "output_type": "execute_result",
          "data": {
            "text/html": [
              "<div>\n",
              "<style scoped>\n",
              "    .dataframe tbody tr th:only-of-type {\n",
              "        vertical-align: middle;\n",
              "    }\n",
              "\n",
              "    .dataframe tbody tr th {\n",
              "        vertical-align: top;\n",
              "    }\n",
              "\n",
              "    .dataframe thead th {\n",
              "        text-align: right;\n",
              "    }\n",
              "</style>\n",
              "<table border=\"1\" class=\"dataframe\">\n",
              "  <thead>\n",
              "    <tr style=\"text-align: right;\">\n",
              "      <th></th>\n",
              "      <th>Image Index</th>\n",
              "      <th>Finding Labels</th>\n",
              "      <th>Follow-up #</th>\n",
              "      <th>Patient ID</th>\n",
              "      <th>Patient Age</th>\n",
              "      <th>Patient Gender</th>\n",
              "      <th>View Position</th>\n",
              "      <th>OriginalImageWidth</th>\n",
              "      <th>OriginalImageHeight</th>\n",
              "      <th>OriginalImagePixelSpacing_x</th>\n",
              "      <th>OriginalImagePixelSpacing_y</th>\n",
              "    </tr>\n",
              "  </thead>\n",
              "  <tbody>\n",
              "    <tr>\n",
              "      <th>112115</th>\n",
              "      <td>00030801_001.png</td>\n",
              "      <td>Mass|Pneumonia</td>\n",
              "      <td>1</td>\n",
              "      <td>30801</td>\n",
              "      <td>039Y</td>\n",
              "      <td>M</td>\n",
              "      <td>PA</td>\n",
              "      <td>2048</td>\n",
              "      <td>2500</td>\n",
              "      <td>0.168</td>\n",
              "      <td>0.168</td>\n",
              "    </tr>\n",
              "    <tr>\n",
              "      <th>112116</th>\n",
              "      <td>00030802_000.png</td>\n",
              "      <td>No Finding</td>\n",
              "      <td>0</td>\n",
              "      <td>30802</td>\n",
              "      <td>029Y</td>\n",
              "      <td>M</td>\n",
              "      <td>PA</td>\n",
              "      <td>2048</td>\n",
              "      <td>2500</td>\n",
              "      <td>0.168</td>\n",
              "      <td>0.168</td>\n",
              "    </tr>\n",
              "    <tr>\n",
              "      <th>112117</th>\n",
              "      <td>00030803_000.png</td>\n",
              "      <td>No Finding</td>\n",
              "      <td>0</td>\n",
              "      <td>30803</td>\n",
              "      <td>042Y</td>\n",
              "      <td>F</td>\n",
              "      <td>PA</td>\n",
              "      <td>2048</td>\n",
              "      <td>2500</td>\n",
              "      <td>0.168</td>\n",
              "      <td>0.168</td>\n",
              "    </tr>\n",
              "    <tr>\n",
              "      <th>112118</th>\n",
              "      <td>00030804_000.png</td>\n",
              "      <td>No Finding</td>\n",
              "      <td>0</td>\n",
              "      <td>30804</td>\n",
              "      <td>030Y</td>\n",
              "      <td>F</td>\n",
              "      <td>PA</td>\n",
              "      <td>2048</td>\n",
              "      <td>2500</td>\n",
              "      <td>0.168</td>\n",
              "      <td>0.168</td>\n",
              "    </tr>\n",
              "    <tr>\n",
              "      <th>112119</th>\n",
              "      <td>00030805_000.png</td>\n",
              "      <td>No Finding</td>\n",
              "      <td>0</td>\n",
              "      <td>30805</td>\n",
              "      <td>027Y</td>\n",
              "      <td>M</td>\n",
              "      <td>PA</td>\n",
              "      <td>2048</td>\n",
              "      <td>2500</td>\n",
              "      <td>0.171</td>\n",
              "      <td>0.171</td>\n",
              "    </tr>\n",
              "  </tbody>\n",
              "</table>\n",
              "</div>"
            ],
            "text/plain": [
              "             Image Index  Finding Labels  Follow-up #  Patient ID Patient Age  \\\n",
              "112115  00030801_001.png  Mass|Pneumonia            1       30801        039Y   \n",
              "112116  00030802_000.png      No Finding            0       30802        029Y   \n",
              "112117  00030803_000.png      No Finding            0       30803        042Y   \n",
              "112118  00030804_000.png      No Finding            0       30804        030Y   \n",
              "112119  00030805_000.png      No Finding            0       30805        027Y   \n",
              "\n",
              "       Patient Gender View Position  OriginalImageWidth  OriginalImageHeight  \\\n",
              "112115              M            PA                2048                 2500   \n",
              "112116              M            PA                2048                 2500   \n",
              "112117              F            PA                2048                 2500   \n",
              "112118              F            PA                2048                 2500   \n",
              "112119              M            PA                2048                 2500   \n",
              "\n",
              "        OriginalImagePixelSpacing_x  OriginalImagePixelSpacing_y  \n",
              "112115                        0.168                        0.168  \n",
              "112116                        0.168                        0.168  \n",
              "112117                        0.168                        0.168  \n",
              "112118                        0.168                        0.168  \n",
              "112119                        0.171                        0.171  "
            ]
          },
          "metadata": {
            "tags": []
          },
          "execution_count": 49
        }
      ]
    },
    {
      "metadata": {
        "id": "zgodztPZztr4",
        "colab_type": "code",
        "colab": {
          "autoexec": {
            "startup": false,
            "wait_interval": 0
          }
        }
      },
      "cell_type": "code",
      "source": [
        "## Preprocessing Images"
      ],
      "execution_count": 0,
      "outputs": []
    },
    {
      "metadata": {
        "id": "CG6vRIEtzpjy",
        "colab_type": "code",
        "colab": {
          "autoexec": {
            "startup": false,
            "wait_interval": 0
          }
        }
      },
      "cell_type": "code",
      "source": [
        "def proc_images(folder):\n",
        "    \"\"\"\n",
        "    Returns two arrays: \n",
        "        x is an array of resized images\n",
        "        y is an array of labels\n",
        "    \"\"\"\n",
        "    NoFinding = \"No Finding\"\n",
        "    Consolidation=\"Consolidation\"\n",
        "    Infiltration=\"Infiltration\"\n",
        "    Pneumothorax=\"Pneumothorax\"\n",
        "    Edema=\"Edema\"\n",
        "    Emphysema=\"Emphysema\"\n",
        "    Fibrosis=\"Fibrosis\"\n",
        "    Effusion=\"Effusion\"\n",
        "    Pneumonia=\"Pneumonia\"\n",
        "    Pleural_Thickening=\"Pleural_Thickening\"\n",
        "    Cardiomegaly=\"Cardiomegaly\"\n",
        "    NoduleMass=\"Nodule\"\n",
        "    Hernia=\"Hernia\"\n",
        "    Atelectasis=\"Atelectasis\"\n",
        "    RareClass=[\"Emphysema\",\"Edema\",\"Fibrosis\",\"Pneumonia\",\"Hernia\"]\n",
        "    x = [] # images as arrays\n",
        "    y = [] # labels Infiltration or Not_infiltration\n",
        "    WIDTH = 64\n",
        "    HEIGHT = 64\n",
        "\n",
        "    for img in folder:\n",
        "        base = os.path.basename(img)\n",
        "        finding = labels[\"Finding Labels\"][labels[\"Image Index\"] == base].values[0]\n",
        "\n",
        "        # Read and resize image\n",
        "        full_size_image = cv2.imread(img)\n",
        "        x.append(cv2.resize(full_size_image, (WIDTH,HEIGHT), interpolation=cv2.INTER_CUBIC))\n",
        "\n",
        "        # Labels\n",
        "        if NoFinding in finding:\n",
        "            finding = 0\n",
        "            y.append(finding)        \n",
        "        elif Consolidation in finding:\n",
        "            finding = 1\n",
        "            y.append(finding)    \n",
        "        elif Infiltration in finding:\n",
        "            finding = 2\n",
        "            y.append(finding)           \n",
        "        elif Pneumothorax in finding:\n",
        "            finding = 3\n",
        "            y.append(finding)\n",
        "        elif Edema in finding:\n",
        "            finding = 9##\n",
        "            y.append(finding)\n",
        "        elif Emphysema in finding:\n",
        "            finding = 9##\n",
        "            y.append(finding)\n",
        "        elif Fibrosis in finding:\n",
        "            finding = 9##\n",
        "            y.append(finding) \n",
        "        elif Effusion in finding:\n",
        "            finding = 4\n",
        "            y.append(finding)             \n",
        "        elif Pneumonia in finding:\n",
        "            finding = 9##\n",
        "            y.append(finding)   \n",
        "        elif Pleural_Thickening in finding:\n",
        "            finding = 5\n",
        "            y.append(finding) \n",
        "        elif Cardiomegaly in finding:\n",
        "            finding = 6\n",
        "            y.append(finding) \n",
        "        elif NoduleMass in finding:\n",
        "            finding = 7\n",
        "            y.append(finding) \n",
        "        elif Hernia in finding:\n",
        "            finding = 9##\n",
        "            y.append(finding) \n",
        "        elif Atelectasis in finding:\n",
        "            finding = 8\n",
        "            y.append(finding) \n",
        "        else:\n",
        "            finding = 9\n",
        "            y.append(finding)\n",
        "\n",
        "    return x,y\n"
      ],
      "execution_count": 0,
      "outputs": []
    },
    {
      "metadata": {
        "id": "UcLHK6dGz0RI",
        "colab_type": "code",
        "colab": {
          "autoexec": {
            "startup": false,
            "wait_interval": 0
          },
          "base_uri": "https://localhost:8080/",
          "height": 34
        },
        "outputId": "8680ae3f-4977-489b-bb5e-98e2fa219450",
        "executionInfo": {
          "status": "ok",
          "timestamp": 1525133038635,
          "user_tz": -330,
          "elapsed": 415581,
          "user": {
            "displayName": "Akshay Sharma",
            "photoUrl": "https://lh3.googleusercontent.com/a/default-user=s128",
            "userId": "106701687290024516562"
          }
        }
      },
      "cell_type": "code",
      "source": [
        "X001,y001 = proc_images(images001[:500])\n",
        "df001 = pd.DataFrame()\n",
        "df001[\"images\"]=X001\n",
        "df001[\"labels\"]=y001\n",
        "print(len(df001), df001.images[0].shape)"
      ],
      "execution_count": 52,
      "outputs": [
        {
          "output_type": "stream",
          "text": [
            "500 (64, 64, 3)\n"
          ],
          "name": "stdout"
        }
      ]
    },
    {
      "metadata": {
        "id": "_bE0fTPl0CoG",
        "colab_type": "code",
        "colab": {
          "autoexec": {
            "startup": false,
            "wait_interval": 0
          }
        }
      },
      "cell_type": "code",
      "source": [
        "## Converting to arrays"
      ],
      "execution_count": 0,
      "outputs": []
    },
    {
      "metadata": {
        "id": "0m4g8iK50BIW",
        "colab_type": "code",
        "colab": {
          "autoexec": {
            "startup": false,
            "wait_interval": 0
          }
        }
      },
      "cell_type": "code",
      "source": [
        "len(df001[\"labels\"])\n",
        "df001['images'][0]\n",
        "df001['images']=np.array(df001['images'])\n",
        "df001['labels']=np.array(df001['labels'])"
      ],
      "execution_count": 0,
      "outputs": []
    },
    {
      "metadata": {
        "id": "rnan44Tu0juu",
        "colab_type": "code",
        "colab": {
          "autoexec": {
            "startup": false,
            "wait_interval": 0
          }
        }
      },
      "cell_type": "code",
      "source": [
        "## Converting train images to array and applying mean subtraction processing\n"
      ],
      "execution_count": 0,
      "outputs": []
    },
    {
      "metadata": {
        "id": "j6b3rqTK5rBf",
        "colab_type": "code",
        "colab": {
          "autoexec": {
            "startup": false,
            "wait_interval": 0
          }
        }
      },
      "cell_type": "code",
      "source": [
        "X001,y001 = proc_images(images001[2000:2100])\n",
        "te001 = pd.DataFrame()\n",
        "te001[\"images\"]=X001\n",
        "te001[\"labels\"]=y001\n",
        "te001['images']=np.array(te001['images'])\n",
        "te001['labels']=np.array(te001['labels'])\n"
      ],
      "execution_count": 0,
      "outputs": []
    },
    {
      "metadata": {
        "id": "NXlb9OLk0djL",
        "colab_type": "code",
        "colab": {
          "autoexec": {
            "startup": false,
            "wait_interval": 0
          }
        }
      },
      "cell_type": "code",
      "source": [
        "X_tr=[]\n",
        "X_train=df001.images\n",
        "for i in range(len(df001.images)):\n",
        "\n",
        "    temp_img=X_train[i]\n",
        "\n",
        "    temp_img=image.img_to_array(temp_img)\n",
        "\n",
        "    X_tr.append(temp_img)\n",
        "\n",
        "\n",
        "X_tr=np.array(X_tr)\n"
      ],
      "execution_count": 0,
      "outputs": []
    },
    {
      "metadata": {
        "id": "o28BKM_90mg1",
        "colab_type": "code",
        "colab": {
          "autoexec": {
            "startup": false,
            "wait_interval": 0
          }
        }
      },
      "cell_type": "code",
      "source": [
        "## Applying the same procedure with the test dataset"
      ],
      "execution_count": 0,
      "outputs": []
    },
    {
      "metadata": {
        "id": "ENdptjQy0o4b",
        "colab_type": "code",
        "colab": {
          "autoexec": {
            "startup": false,
            "wait_interval": 0
          }
        }
      },
      "cell_type": "code",
      "source": [
        "X_te=[]\n",
        "X_test=te001.images\n",
        "for i in range(len(te001.images)):\n",
        "\n",
        "    temp_img=X_test[i]\n",
        "\n",
        "    temp_img=image.img_to_array(temp_img)\n",
        "\n",
        "    X_te.append(temp_img)\n",
        "\n",
        "X_te=np.array(X_te)"
      ],
      "execution_count": 0,
      "outputs": []
    },
    {
      "metadata": {
        "id": "2f5dX3GY0r5H",
        "colab_type": "code",
        "colab": {
          "autoexec": {
            "startup": false,
            "wait_interval": 0
          },
          "base_uri": "https://localhost:8080/",
          "height": 34
        },
        "outputId": "109da90c-fa7e-40de-fd22-4f1448ab00ad",
        "executionInfo": {
          "status": "ok",
          "timestamp": 1525133136893,
          "user_tz": -330,
          "elapsed": 1022,
          "user": {
            "displayName": "Akshay Sharma",
            "photoUrl": "https://lh3.googleusercontent.com/a/default-user=s128",
            "userId": "106701687290024516562"
          }
        }
      },
      "cell_type": "code",
      "source": [
        "print(X_tr.shape,X_te.shape)"
      ],
      "execution_count": 59,
      "outputs": [
        {
          "output_type": "stream",
          "text": [
            "(500, 64, 64, 3) (100, 64, 64, 3)\n"
          ],
          "name": "stdout"
        }
      ]
    },
    {
      "metadata": {
        "id": "5OFOLHsv0wPe",
        "colab_type": "code",
        "colab": {
          "autoexec": {
            "startup": false,
            "wait_interval": 0
          }
        }
      },
      "cell_type": "code",
      "source": [
        "## Reshaping to apply machine learning algorithms"
      ],
      "execution_count": 0,
      "outputs": []
    },
    {
      "metadata": {
        "id": "SiPTUsXm01Kb",
        "colab_type": "code",
        "colab": {
          "autoexec": {
            "startup": false,
            "wait_interval": 0
          },
          "base_uri": "https://localhost:8080/",
          "height": 34
        },
        "outputId": "9b134361-3c2a-42b6-ea7d-bebb834aef8d",
        "executionInfo": {
          "status": "ok",
          "timestamp": 1525133141240,
          "user_tz": -330,
          "elapsed": 1264,
          "user": {
            "displayName": "Akshay Sharma",
            "photoUrl": "https://lh3.googleusercontent.com/a/default-user=s128",
            "userId": "106701687290024516562"
          }
        }
      },
      "cell_type": "code",
      "source": [
        "X_tr=X_tr.reshape((X_tr.shape[0],X_tr.shape[1]*X_tr.shape[2]*X_tr.shape[3]))\n",
        "X_te=X_te.reshape((X_te.shape[0],X_te.shape[1]*X_te.shape[2]*X_te.shape[3]))\n",
        "print(X_tr.shape,X_te.shape)\n"
      ],
      "execution_count": 61,
      "outputs": [
        {
          "output_type": "stream",
          "text": [
            "(500, 12288) (100, 12288)\n"
          ],
          "name": "stdout"
        }
      ]
    },
    {
      "metadata": {
        "id": "R4jA3dSg08I0",
        "colab_type": "code",
        "colab": {
          "autoexec": {
            "startup": false,
            "wait_interval": 0
          }
        }
      },
      "cell_type": "code",
      "source": [
        "def frange(start, stop, step):\n",
        "     i = start\n",
        "     while i < stop:\n",
        "         yield i\n",
        "         i += step"
      ],
      "execution_count": 0,
      "outputs": []
    },
    {
      "metadata": {
        "id": "fRRvGa9N1Rbj",
        "colab_type": "code",
        "colab": {
          "autoexec": {
            "startup": false,
            "wait_interval": 0
          }
        }
      },
      "cell_type": "code",
      "source": [
        "## Applying SVC"
      ],
      "execution_count": 0,
      "outputs": []
    },
    {
      "metadata": {
        "id": "0VaGlM-X1Idm",
        "colab_type": "code",
        "colab": {
          "autoexec": {
            "startup": false,
            "wait_interval": 0
          },
          "base_uri": "https://localhost:8080/",
          "height": 34
        },
        "outputId": "fc777177-afe1-4c71-aada-c00eb4934b85",
        "executionInfo": {
          "status": "ok",
          "timestamp": 1525133559838,
          "user_tz": -330,
          "elapsed": 413150,
          "user": {
            "displayName": "Akshay Sharma",
            "photoUrl": "https://lh3.googleusercontent.com/a/default-user=s128",
            "userId": "106701687290024516562"
          }
        }
      },
      "cell_type": "code",
      "source": [
        "from sklearn import svm, grid_search, datasets\n",
        "\n",
        "parameters = {'kernel':('linear', 'rbf','poly'), 'C':list(frange(1,2,0.1))}\n",
        "svr =svm. SVC()\n",
        "clf = grid_search.GridSearchCV(svr, parameters)\n",
        "clf.fit(X_tr,df001['labels'])\n",
        "print(clf.best_params_)"
      ],
      "execution_count": 64,
      "outputs": [
        {
          "output_type": "stream",
          "text": [
            "{'C': 1, 'kernel': 'rbf'}\n"
          ],
          "name": "stdout"
        }
      ]
    },
    {
      "metadata": {
        "id": "lanWRA-71L8h",
        "colab_type": "code",
        "colab": {
          "autoexec": {
            "startup": false,
            "wait_interval": 0
          },
          "base_uri": "https://localhost:8080/",
          "height": 34
        },
        "outputId": "dc3dce7f-8a24-4f3d-9fee-a9c8e3bc9753",
        "executionInfo": {
          "status": "ok",
          "timestamp": 1525133573206,
          "user_tz": -330,
          "elapsed": 13127,
          "user": {
            "displayName": "Akshay Sharma",
            "photoUrl": "https://lh3.googleusercontent.com/a/default-user=s128",
            "userId": "106701687290024516562"
          }
        }
      },
      "cell_type": "code",
      "source": [
        "from sklearn.svm import SVC\n",
        "from sklearn import metrics\n",
        "clf = SVC(kernel='rbf',C=1)\n",
        "clf.fit(X_tr,df001['labels'])\n",
        "pred=clf.predict(X_te)\n",
        "print(\"Accuracy\",metrics.accuracy_score(pred,te001['labels']))"
      ],
      "execution_count": 65,
      "outputs": [
        {
          "output_type": "stream",
          "text": [
            "Accuracy 0.62\n"
          ],
          "name": "stdout"
        }
      ]
    },
    {
      "metadata": {
        "id": "yYdC4Stt1UY0",
        "colab_type": "code",
        "colab": {
          "autoexec": {
            "startup": false,
            "wait_interval": 0
          }
        }
      },
      "cell_type": "code",
      "source": [
        "## Applying Random Forest Classifier"
      ],
      "execution_count": 0,
      "outputs": []
    },
    {
      "metadata": {
        "id": "1d8MCpGt1d-r",
        "colab_type": "code",
        "colab": {
          "autoexec": {
            "startup": false,
            "wait_interval": 0
          }
        }
      },
      "cell_type": "code",
      "source": [
        "from sklearn.ensemble import RandomForestClassifier\n",
        "accuracy=[];\n",
        "for i in range(40):\n",
        "    clf = RandomForestClassifier(max_depth=i+1, random_state=0)\n",
        "    clf.fit(X_tr, df001['labels'])\n",
        "    pred=clf.predict(X_te)\n",
        "    accuracy.append(metrics.accuracy_score(pred,te001['labels']))\n",
        "    #print(\"Accuracy\",accuracy[i])"
      ],
      "execution_count": 0,
      "outputs": []
    },
    {
      "metadata": {
        "id": "S0yz30vw1hum",
        "colab_type": "code",
        "colab": {
          "autoexec": {
            "startup": false,
            "wait_interval": 0
          }
        }
      },
      "cell_type": "code",
      "source": [
        "## Plotting Graph"
      ],
      "execution_count": 0,
      "outputs": []
    },
    {
      "metadata": {
        "id": "CcLZnoBB1j8M",
        "colab_type": "code",
        "colab": {
          "autoexec": {
            "startup": false,
            "wait_interval": 0
          },
          "base_uri": "https://localhost:8080/",
          "height": 279
        },
        "outputId": "9b4d908c-0bfe-4d8d-9c20-140368ee3369",
        "executionInfo": {
          "status": "ok",
          "timestamp": 1525133591858,
          "user_tz": -330,
          "elapsed": 1409,
          "user": {
            "displayName": "Akshay Sharma",
            "photoUrl": "https://lh3.googleusercontent.com/a/default-user=s128",
            "userId": "106701687290024516562"
          }
        }
      },
      "cell_type": "code",
      "source": [
        "import matplotlib.pyplot as plt\n",
        "costs = np.squeeze(accuracy)\n",
        "plt.plot(costs)\n",
        "plt.ylabel('Accuracy')\n",
        "plt.xlabel('max_depth')\n",
        "plt.show()\n"
      ],
      "execution_count": 69,
      "outputs": [
        {
          "output_type": "display_data",
          "data": {
            "image/png": "[encoded data removed]",
            "text/plain": [
              "<matplotlib.figure.Figure at 0x7f229dc25e80>"
            ]
          },
          "metadata": {
            "tags": []
          }
        }
      ]
    },
    {
      "metadata": {
        "id": "pFKhQdMy1roI",
        "colab_type": "code",
        "colab": {
          "autoexec": {
            "startup": false,
            "wait_interval": 0
          }
        }
      },
      "cell_type": "code",
      "source": [
        "from sklearn.ensemble import RandomForestClassifier\n",
        "est=[];\n",
        "for i in range(40):\n",
        "    clf = RandomForestClassifier(n_estimators=i+1,max_depth=2, random_state=0)\n",
        "    clf.fit(X_tr, df001['labels'])\n",
        "    pred=clf.predict(X_te)\n",
        "    est.append(metrics.accuracy_score(pred,te001['labels']))\n"
      ],
      "execution_count": 0,
      "outputs": []
    },
    {
      "metadata": {
        "id": "ByvYB0H92EJK",
        "colab_type": "code",
        "colab": {
          "autoexec": {
            "startup": false,
            "wait_interval": 0
          }
        }
      },
      "cell_type": "code",
      "source": [
        "## Plotting Graph"
      ],
      "execution_count": 0,
      "outputs": []
    },
    {
      "metadata": {
        "id": "zs87nia31_M6",
        "colab_type": "code",
        "colab": {
          "autoexec": {
            "startup": false,
            "wait_interval": 0
          },
          "base_uri": "https://localhost:8080/",
          "height": 279
        },
        "outputId": "00e57bb3-1b15-4af3-eed4-ac26bf226c0a",
        "executionInfo": {
          "status": "ok",
          "timestamp": 1525133604686,
          "user_tz": -330,
          "elapsed": 1526,
          "user": {
            "displayName": "Akshay Sharma",
            "photoUrl": "https://lh3.googleusercontent.com/a/default-user=s128",
            "userId": "106701687290024516562"
          }
        }
      },
      "cell_type": "code",
      "source": [
        "costs = np.squeeze(est)\n",
        "plt.plot(costs)\n",
        "plt.ylabel('Accuracy')\n",
        "plt.xlabel('n_estimators')\n",
        "#plt.title(\"Learning rate =\" + str(d[\"learning_rate\"]))\n",
        "plt.show()"
      ],
      "execution_count": 72,
      "outputs": [
        {
          "output_type": "display_data",
          "data": {
            "image/png": "[encoded data removed]",
            "text/plain": [
              "<matplotlib.figure.Figure at 0x7f22954c6710>"
            ]
          },
          "metadata": {
            "tags": []
          }
        }
      ]
    },
    {
      "metadata": {
        "id": "KCyqPfAE2QxN",
        "colab_type": "code",
        "colab": {
          "autoexec": {
            "startup": false,
            "wait_interval": 0
          }
        }
      },
      "cell_type": "code",
      "source": [
        "## Applying Decision Tree Classifier"
      ],
      "execution_count": 0,
      "outputs": []
    },
    {
      "metadata": {
        "id": "G0qDkosE2V2u",
        "colab_type": "code",
        "colab": {
          "autoexec": {
            "startup": false,
            "wait_interval": 0
          }
        }
      },
      "cell_type": "code",
      "source": [
        "from sklearn.tree import DecisionTreeClassifier\n",
        "dt=[]\n",
        "for  i in range(40):\n",
        "    clf = DecisionTreeClassifier(random_state=0,min_samples_split=i+2)\n",
        "    clf.fit(X_tr, df001['labels'])\n",
        "    pred=clf.predict(X_te)\n",
        "    dt.append(metrics.accuracy_score(pred,te001['labels']))\n",
        "    #print(\"Accuracy: \",metrics.accuracy_score(pred,te001['labels']))"
      ],
      "execution_count": 0,
      "outputs": []
    },
    {
      "metadata": {
        "id": "WVGhl-yH2bSl",
        "colab_type": "code",
        "colab": {
          "autoexec": {
            "startup": false,
            "wait_interval": 0
          },
          "base_uri": "https://localhost:8080/",
          "height": 279
        },
        "outputId": "84054a3b-3019-4152-b5a4-01626ef10ecb",
        "executionInfo": {
          "status": "ok",
          "timestamp": 1525133761991,
          "user_tz": -330,
          "elapsed": 1605,
          "user": {
            "displayName": "Akshay Sharma",
            "photoUrl": "https://lh3.googleusercontent.com/a/default-user=s128",
            "userId": "106701687290024516562"
          }
        }
      },
      "cell_type": "code",
      "source": [
        "costs = np.squeeze(dt)\n",
        "plt.plot(costs)\n",
        "plt.ylabel('Accuracy')\n",
        "plt.xlabel('min_samples_split')\n",
        "#plt.title(\"Learning rate =\" + str(d[\"learning_rate\"]))\n",
        "plt.show()"
      ],
      "execution_count": 75,
      "outputs": [
        {
          "output_type": "display_data",
          "data": {
            "image/png": "[encoded data removed]",
            "text/plain": [
              "<matplotlib.figure.Figure at 0x7f22954b9160>"
            ]
          },
          "metadata": {
            "tags": []
          }
        }
      ]
    },
    {
      "metadata": {
        "id": "VUbC5ax92rs4",
        "colab_type": "code",
        "colab": {
          "autoexec": {
            "startup": false,
            "wait_interval": 0
          }
        }
      },
      "cell_type": "code",
      "source": [
        "## Applying K-Nearest Neighbors"
      ],
      "execution_count": 0,
      "outputs": []
    },
    {
      "metadata": {
        "id": "ybb7GyLU2xn-",
        "colab_type": "code",
        "colab": {
          "autoexec": {
            "startup": false,
            "wait_interval": 0
          }
        }
      },
      "cell_type": "code",
      "source": [
        "from sklearn.neighbors import KNeighborsClassifier\n",
        "knn=[]\n",
        "for i in range(100):\n",
        "    neigh = KNeighborsClassifier(n_neighbors=i+1)\n",
        "    neigh.fit(X_tr, df001['labels']) \n",
        "    pred=neigh.predict(X_te)\n",
        "    p=metrics.accuracy_score(pred,te001['labels'])\n",
        "    knn.append(p)\n",
        "    #print(\"Accuracy: \",p)"
      ],
      "execution_count": 0,
      "outputs": []
    },
    {
      "metadata": {
        "id": "9vs3d91j222G",
        "colab_type": "code",
        "colab": {
          "autoexec": {
            "startup": false,
            "wait_interval": 0
          },
          "base_uri": "https://localhost:8080/",
          "height": 279
        },
        "outputId": "394290ab-46cc-4bff-efe6-5b1a23631fad",
        "executionInfo": {
          "status": "ok",
          "timestamp": 1525133907013,
          "user_tz": -330,
          "elapsed": 1518,
          "user": {
            "displayName": "Akshay Sharma",
            "photoUrl": "https://lh3.googleusercontent.com/a/default-user=s128",
            "userId": "106701687290024516562"
          }
        }
      },
      "cell_type": "code",
      "source": [
        "costs = np.squeeze(knn)\n",
        "plt.plot(costs)\n",
        "plt.ylabel('Accuracy')\n",
        "plt.xlabel('n_neighbors')\n",
        "#plt.title(\"Learning rate =\" + str(d[\"learning_rate\"]))\n",
        "plt.show()"
      ],
      "execution_count": 78,
      "outputs": [
        {
          "output_type": "display_data",
          "data": {
            "image/png": "[encoded data removed]",
            "text/plain": [
              "<matplotlib.figure.Figure at 0x7f229546ba20>"
            ]
          },
          "metadata": {
            "tags": []
          }
        }
      ]
    },
    {
      "metadata": {
        "id": "gFXNYg0R-LpE",
        "colab_type": "code",
        "colab": {
          "autoexec": {
            "startup": false,
            "wait_interval": 0
          }
        }
      },
      "cell_type": "code",
      "source": [
        ""
      ],
      "execution_count": 0,
      "outputs": []
    }
  ]
}